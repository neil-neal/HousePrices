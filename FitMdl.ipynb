{
 "cells": [
  {
   "cell_type": "code",
   "execution_count": 2561,
   "metadata": {
    "collapsed": false
   },
   "outputs": [],
   "source": [
    "import copy\n",
    "import numpy as np\n",
    "import pandas as pd\n",
    "import sklearn as skl\n",
    "import xgboost as xgb"
   ]
  },
  {
   "cell_type": "code",
   "execution_count": 2562,
   "metadata": {
    "collapsed": false
   },
   "outputs": [
    {
     "data": {
      "text/plain": [
       "1460"
      ]
     },
     "execution_count": 2562,
     "metadata": {},
     "output_type": "execute_result"
    }
   ],
   "source": [
    "len(dfa)"
   ]
  },
  {
   "cell_type": "code",
   "execution_count": 2563,
   "metadata": {
    "collapsed": false
   },
   "outputs": [
    {
     "name": "stdout",
     "output_type": "stream",
     "text": [
      "['MSZoning' 'Street' 'Alley' 'LotShape' 'LandContour' 'Utilities'\n",
      " 'LotConfig' 'LandSlope' 'Neighborhood' 'Condition1' 'Condition2'\n",
      " 'BldgType' 'HouseStyle' 'RoofStyle' 'RoofMatl' 'Exterior1st' 'Exterior2nd'\n",
      " 'MasVnrType' 'ExterQual' 'ExterCond' 'Foundation' 'BsmtQual' 'BsmtCond'\n",
      " 'BsmtExposure' 'BsmtFinType1' 'BsmtFinType2' 'Heating' 'HeatingQC'\n",
      " 'CentralAir' 'Electrical' 'KitchenQual' 'Functional' 'FireplaceQu'\n",
      " 'GarageType' 'GarageFinish' 'GarageQual' 'GarageCond' 'PavedDrive'\n",
      " 'PoolQC' 'Fence' 'MiscFeature' 'SaleType' 'SaleCondition'] ['MSSubClass' 'LotFrontage' 'LotArea' 'OverallQual' 'OverallCond'\n",
      " 'YearBuilt' 'YearRemodAdd' 'MasVnrArea' 'BsmtFinSF1' 'BsmtFinSF2'\n",
      " 'BsmtUnfSF' 'TotalBsmtSF' '1stFlrSF' '2ndFlrSF' 'LowQualFinSF' 'GrLivArea'\n",
      " 'BsmtFullBath' 'BsmtHalfBath' 'FullBath' 'HalfBath' 'BedroomAbvGr'\n",
      " 'KitchenAbvGr' 'TotRmsAbvGrd' 'Fireplaces' 'GarageYrBlt' 'GarageCars'\n",
      " 'GarageArea' 'WoodDeckSF' 'OpenPorchSF' 'EnclosedPorch' '3SsnPorch'\n",
      " 'ScreenPorch' 'PoolArea' 'MiscVal' 'MoSold' 'YrSold' 'SalePrice']\n",
      "(1460, 80) (1021, 80) (438, 80)\n"
     ]
    }
   ],
   "source": [
    "dfa = pd.read_csv('data/train.csv', index_col=0)\n",
    "numericals=dfa.select_dtypes(include=['float','int']).columns.values\n",
    "categoricals=dfa.select_dtypes(include=['object']).columns.values\n",
    "print(categoricals, numericals)\n",
    "\n",
    "smpl_cnt = len(dfa)\n",
    "np.random.seed(4)\n",
    "train_idx = np.random.choice(range(1, smpl_cnt), int(smpl_cnt*0.7), replace=False)\n",
    "vld_idx = list(set(range(1, smpl_cnt)).difference(train_idx))\n",
    "df = dfa.iloc[train_idx]\n",
    "dfv = dfa.iloc[vld_idx]  \n",
    "print(dfa.shape, df.shape, dfv.shape)"
   ]
  },
  {
   "cell_type": "markdown",
   "metadata": {},
   "source": [
    "# encode categorical data"
   ]
  },
  {
   "cell_type": "code",
   "execution_count": 2564,
   "metadata": {
    "collapsed": true
   },
   "outputs": [],
   "source": [
    "dfe=copy.deepcopy(df) \n",
    "cat_encoder=dict()"
   ]
  },
  {
   "cell_type": "code",
   "execution_count": 2565,
   "metadata": {
    "collapsed": false
   },
   "outputs": [],
   "source": [
    "ecocde = {'RL': 0, 'FV':1, 'RM':2, 'RH':3, 'C (all)':4}\n",
    "itm='MSZoning'\n",
    "#dfe[itm] = dfe[itm].map(ecocde)\n",
    "\n",
    "cat_encoder[itm] = ecocde"
   ]
  },
  {
   "cell_type": "code",
   "execution_count": 2566,
   "metadata": {
    "collapsed": false
   },
   "outputs": [],
   "source": [
    "itm='Street'\n",
    "dfe[itm].fillna(0, inplace=True)\n",
    "ecocde = {'Pave': 0, 'Grvl':1}\n",
    "cat_encoder[itm] = ecocde\n"
   ]
  },
  {
   "cell_type": "code",
   "execution_count": 2567,
   "metadata": {
    "collapsed": false
   },
   "outputs": [],
   "source": [
    "itm='Alley'\n",
    "ecocde = {np.nan: 0, 'Pave': 1, 'Grvl':2}\n",
    "cat_encoder[itm] = ecocde"
   ]
  },
  {
   "cell_type": "code",
   "execution_count": 2568,
   "metadata": {
    "collapsed": false
   },
   "outputs": [],
   "source": [
    "itm='LotShape'\n",
    "ecocde = {'Reg': 0, 'IR1': 1, 'IR2':2, 'IR3':3}\n",
    "cat_encoder[itm] = ecocde"
   ]
  },
  {
   "cell_type": "code",
   "execution_count": 2569,
   "metadata": {
    "collapsed": false
   },
   "outputs": [],
   "source": [
    "itm='LandContour'\n",
    "ecocde = {'Low': 0, 'Lvl': 1, 'Bnk':2, 'HLS':3}\n",
    "cat_encoder[itm] = ecocde"
   ]
  },
  {
   "cell_type": "code",
   "execution_count": 2570,
   "metadata": {
    "collapsed": false
   },
   "outputs": [],
   "source": [
    "# we may want to remove this feature\n",
    "itm='Utilities'\n",
    "ecocde = {'AllPub': 0, 'NoSeWa': 1}\n",
    "cat_encoder[itm] = ecocde"
   ]
  },
  {
   "cell_type": "code",
   "execution_count": 2571,
   "metadata": {
    "collapsed": false
   },
   "outputs": [],
   "source": [
    "itm='LotConfig'\n",
    "ecocde = {'Inside': 0, 'CulDSac': 1, 'Corner':2, 'FR2':3, 'FR3':4}\n",
    "cat_encoder[itm] = ecocde"
   ]
  },
  {
   "cell_type": "code",
   "execution_count": 2572,
   "metadata": {
    "collapsed": false
   },
   "outputs": [],
   "source": [
    "itm='LandSlope'\n",
    "ecocde = {'Gtl': 0, 'Mod': 1, 'Sev':2}\n",
    "cat_encoder[itm] = ecocde"
   ]
  },
  {
   "cell_type": "code",
   "execution_count": 2573,
   "metadata": {
    "collapsed": false
   },
   "outputs": [],
   "source": [
    "itm='Neighborhood'\n",
    "mn=dfe['SalePrice'].median()\n",
    "encode=(dfe.groupby(itm)['SalePrice'].median()-mn).to_dict()\n",
    "encode.update({np.nan:1})\n",
    "cat_encoder[itm] = encode"
   ]
  },
  {
   "cell_type": "code",
   "execution_count": 2574,
   "metadata": {
    "collapsed": false
   },
   "outputs": [],
   "source": [
    "itm='Condition1'\n",
    "mn=dfe['SalePrice'].median()\n",
    "encode=(dfe.groupby(itm)['SalePrice'].median()-mn).to_dict()\n",
    "encode.update({np.nan:1})\n",
    "cat_encoder[itm] = encode\n",
    "\n",
    "itm='Condition2'\n",
    "mn=dfe['SalePrice'].median()\n",
    "encode=(dfe.groupby(itm)['SalePrice'].median()-mn).to_dict()\n",
    "encode.update({np.nan:1})\n",
    "cat_encoder[itm] = encode\n",
    "\n"
   ]
  },
  {
   "cell_type": "code",
   "execution_count": 2575,
   "metadata": {
    "collapsed": false
   },
   "outputs": [],
   "source": [
    "itm='BldgType'\n",
    "ecocde = {'Twnhs': 0, 'TwnhsE': 1, 'Duplex':2, '2fmCon':3, '1Fam':4}\n",
    "cat_encoder[itm] = ecocde"
   ]
  },
  {
   "cell_type": "code",
   "execution_count": 2576,
   "metadata": {
    "collapsed": true
   },
   "outputs": [],
   "source": [
    "itm='HouseStyle'\n",
    "mn=df['SalePrice'].median()\n",
    "encode=(df.groupby(itm)['SalePrice'].median()-mn).to_dict()\n",
    "encode.update({np.nan:1})\n",
    "cat_encoder[itm] = encode"
   ]
  },
  {
   "cell_type": "code",
   "execution_count": 2577,
   "metadata": {
    "collapsed": false
   },
   "outputs": [],
   "source": [
    "itm='RoofStyle'\n",
    "ecocde = {'Gable': 0, 'Hip': 1, 'Flat':3, 'Gambrel':4, 'Mansard':5,'Shed':6}\n",
    "cat_encoder[itm] = ecocde"
   ]
  },
  {
   "cell_type": "code",
   "execution_count": 2578,
   "metadata": {
    "collapsed": true
   },
   "outputs": [],
   "source": [
    "itm='Exterior1st'\n",
    "mn=df['SalePrice'].median()\n",
    "encode=(df.groupby(itm)['SalePrice'].median()-mn).to_dict()\n",
    "encode.update({np.nan:1})\n",
    "cat_encoder[itm] = encode\n",
    "\n",
    "itm='Exterior2nd'\n",
    "mn=df['SalePrice'].median()\n",
    "encode=(df.groupby(itm)['SalePrice'].median()-mn).to_dict()\n",
    "encode.update({np.nan:1})\n",
    "cat_encoder[itm] = encode\n"
   ]
  },
  {
   "cell_type": "code",
   "execution_count": 2579,
   "metadata": {
    "collapsed": false
   },
   "outputs": [],
   "source": [
    "itm='MasVnrType'\n",
    "ecocde = {'None': 0, np.nan: 0, 'BrkCmn':1, 'BrkFace':2, 'Stone':3}\n",
    "cat_encoder[itm] = ecocde"
   ]
  },
  {
   "cell_type": "code",
   "execution_count": 2580,
   "metadata": {
    "collapsed": false
   },
   "outputs": [],
   "source": [
    "itm='ExterQual'\n",
    "ecocde = {'Po': -2, 'Fa': -1, 'TA':0, 'Gd':1, 'Ex':2}\n",
    "cat_encoder[itm] = ecocde"
   ]
  },
  {
   "cell_type": "code",
   "execution_count": 2581,
   "metadata": {
    "collapsed": false
   },
   "outputs": [],
   "source": [
    "itm='ExterCond'\n",
    "ecocde = {'Po': -2, 'Fa': -1, 'TA':0, 'Gd':1, 'Ex':2}\n",
    "cat_encoder[itm] = ecocde"
   ]
  },
  {
   "cell_type": "code",
   "execution_count": 2582,
   "metadata": {
    "collapsed": false
   },
   "outputs": [],
   "source": [
    "itm='Foundation'\n",
    "ecocde = {'Wood': -2, 'BrkTil': -1, 'Slab':0, 'Stone':1, 'CBlock':2, 'PConc':3}\n",
    "cat_encoder[itm] = ecocde"
   ]
  },
  {
   "cell_type": "code",
   "execution_count": 2583,
   "metadata": {
    "collapsed": false
   },
   "outputs": [],
   "source": [
    "itm='BsmtQual'\n",
    "ecocde = {'Po': -2, 'Fa': -1, 'TA':0, 'Gd':1, 'Ex':2, np.nan:0}\n",
    "cat_encoder[itm] = ecocde"
   ]
  },
  {
   "cell_type": "code",
   "execution_count": 2584,
   "metadata": {
    "collapsed": false
   },
   "outputs": [],
   "source": [
    "itm='BsmtCond'\n",
    "ecocde = {'Po': -2, 'Fa': -1, 'TA':0, 'Gd':1, 'Ex':2, np.nan:0}\n",
    "cat_encoder[itm] = ecocde"
   ]
  },
  {
   "cell_type": "code",
   "execution_count": 2585,
   "metadata": {
    "collapsed": false
   },
   "outputs": [],
   "source": [
    "itm='BsmtExposure'\n",
    "ecocde = {'No': 1, 'Mn': 1, 'Av':2, 'Gd':3, np.nan:0}\n",
    "cat_encoder[itm] = ecocde"
   ]
  },
  {
   "cell_type": "code",
   "execution_count": 2586,
   "metadata": {
    "collapsed": false
   },
   "outputs": [],
   "source": [
    "for itm in ['BsmtFinType1', 'BsmtFinType2']:\n",
    "    ecocde = {'Unf':0, 'LwQ': 1, 'Rec': 2, 'BLQ':3, 'ALQ':4, 'GLQ':5}\n",
    "    cat_encoder[itm] = ecocde"
   ]
  },
  {
   "cell_type": "code",
   "execution_count": 2587,
   "metadata": {
    "collapsed": false
   },
   "outputs": [],
   "source": [
    "itm='HeatingQC'\n",
    "ecocde = {'Po': -2, 'Fa': -1, 'TA':0, 'Gd':1, 'Ex':2}\n",
    "cat_encoder[itm] = ecocde"
   ]
  },
  {
   "cell_type": "code",
   "execution_count": 2588,
   "metadata": {
    "collapsed": false
   },
   "outputs": [],
   "source": [
    "itm='CentralAir'\n",
    "ecocde = {'N': 0, 'Y':1}\n",
    "cat_encoder[itm] = ecocde"
   ]
  },
  {
   "cell_type": "code",
   "execution_count": 2589,
   "metadata": {
    "collapsed": false
   },
   "outputs": [],
   "source": [
    "itm='Electrical'\n",
    "ecocde = {'Mix': -2, 'FuseP':-1, 'FuseF':0, 'FuseA':1, 'SBrkr':2, np.nan:0}\n",
    "cat_encoder[itm] = ecocde"
   ]
  },
  {
   "cell_type": "code",
   "execution_count": 2590,
   "metadata": {
    "collapsed": false
   },
   "outputs": [],
   "source": [
    "itm='KitchenQual'\n",
    "ecocde = {'Po': -2, 'Fa': -1, 'TA':0, 'Gd':1, 'Ex':2, np.nan:0}\n",
    "cat_encoder[itm] = ecocde"
   ]
  },
  {
   "cell_type": "code",
   "execution_count": 2591,
   "metadata": {
    "collapsed": false
   },
   "outputs": [],
   "source": [
    "itm='Functional'\n",
    "ecocde = {'Typ': 0, 'Min1': -1, 'Min2':-2, 'Mod':-3, 'Maj1':-4, 'Maj2':-5, 'Sev':-6, 'Sal':-7}\n",
    "cat_encoder[itm] = ecocde"
   ]
  },
  {
   "cell_type": "code",
   "execution_count": 2592,
   "metadata": {
    "collapsed": false
   },
   "outputs": [],
   "source": [
    "itm='FireplaceQu'\n",
    "ecocde = {'Po': 1, 'Fa': 2, 'TA':3, 'Gd':4, 'Ex':5, np.nan:0}\n",
    "cat_encoder[itm] = ecocde"
   ]
  },
  {
   "cell_type": "code",
   "execution_count": 2593,
   "metadata": {
    "collapsed": true
   },
   "outputs": [],
   "source": [
    "itm='GarageType'\n",
    "mn=df['SalePrice'].median()\n",
    "encode=(df.groupby(itm)['SalePrice'].median()-mn).to_dict()\n",
    "encode.update({np.nan:1})\n",
    "cat_encoder[itm] = encode"
   ]
  },
  {
   "cell_type": "code",
   "execution_count": 2594,
   "metadata": {
    "collapsed": false
   },
   "outputs": [],
   "source": [
    "itm='GarageFinish'\n",
    "ecocde = {np.nan:0, 'Unf': 1, 'RFn': 2, 'Fin':3 }\n",
    "cat_encoder[itm] = ecocde"
   ]
  },
  {
   "cell_type": "code",
   "execution_count": 2595,
   "metadata": {
    "collapsed": false
   },
   "outputs": [],
   "source": [
    "itm='GarageQual'\n",
    "ecocde = {'Po': 1, 'Fa': 2, 'TA':3, 'Gd':4, 'Ex':5, np.nan:0}\n",
    "cat_encoder[itm] = ecocde\n"
   ]
  },
  {
   "cell_type": "code",
   "execution_count": 2596,
   "metadata": {
    "collapsed": false
   },
   "outputs": [],
   "source": [
    "itm='GarageCond'\n",
    "ecocde = {'Po': 1, 'Fa': 2, 'TA':3, 'Gd':4, 'Ex':5, np.nan:0}\n",
    "cat_encoder[itm] = ecocde"
   ]
  },
  {
   "cell_type": "code",
   "execution_count": 2597,
   "metadata": {
    "collapsed": false
   },
   "outputs": [],
   "source": [
    "itm='PavedDrive'\n",
    "ecocde = {'N': 0, 'P': 1, 'Y':2}\n",
    "cat_encoder[itm] = ecocde"
   ]
  },
  {
   "cell_type": "code",
   "execution_count": 2598,
   "metadata": {
    "collapsed": false
   },
   "outputs": [],
   "source": [
    "itm='PoolQC'\n",
    "ecocde = {'Po': 1, 'Fa': 2, 'TA':3, 'Gd':4, 'Ex':5, np.nan:0}\n",
    "cat_encoder[itm] = ecocde"
   ]
  },
  {
   "cell_type": "code",
   "execution_count": 2599,
   "metadata": {
    "collapsed": false
   },
   "outputs": [],
   "source": [
    "itm='Fence'\n",
    "mn=dfe['SalePrice'].median()\n",
    "encode=(dfe.groupby(itm)['SalePrice'].median()-mn).to_dict()\n",
    "encode.update({np.nan:0})\n",
    "cat_encoder[itm] = encode"
   ]
  },
  {
   "cell_type": "code",
   "execution_count": 2600,
   "metadata": {
    "collapsed": false
   },
   "outputs": [],
   "source": [
    "itm='MiscFeature'\n",
    "mn=dfe['SalePrice'].median()\n",
    "encode=(dfe.groupby(itm)['SalePrice'].median()-mn).to_dict()\n",
    "encode.update({np.nan:0})\n",
    "cat_encoder[itm] = encode"
   ]
  },
  {
   "cell_type": "code",
   "execution_count": 2601,
   "metadata": {
    "collapsed": false
   },
   "outputs": [],
   "source": [
    "itm='SaleType'\n",
    "mn=dfe['SalePrice'].median()\n",
    "encode=(dfe.groupby(itm)['SalePrice'].median()-mn).to_dict()\n",
    "encode.update({np.nan:0})\n",
    "cat_encoder[itm] = encode"
   ]
  },
  {
   "cell_type": "code",
   "execution_count": 2602,
   "metadata": {
    "collapsed": false
   },
   "outputs": [],
   "source": [
    "itm='SaleCondition'\n",
    "mn=dfe['SalePrice'].median()\n",
    "encode=(dfe.groupby(itm)['SalePrice'].median()-mn).to_dict()\n",
    "encode.update({np.nan:0})\n",
    "cat_encoder[itm] = encode"
   ]
  },
  {
   "cell_type": "code",
   "execution_count": 2603,
   "metadata": {
    "collapsed": false
   },
   "outputs": [],
   "source": [
    "itm='RoofMatl'\n",
    "mn=df['SalePrice'].median()\n",
    "encode=(df.groupby(itm)['SalePrice'].median()-mn).to_dict()\n",
    "encode.update({np.nan:0})\n",
    "cat_encoder[itm] = encode"
   ]
  },
  {
   "cell_type": "code",
   "execution_count": 2604,
   "metadata": {
    "collapsed": false
   },
   "outputs": [],
   "source": [
    "#%pdb\n",
    "len(cat_encoder)\n",
    "\n",
    "for itm, ecd in cat_encoder.items():\n",
    "    dfa[itm].replace(ecd, inplace=True)\n",
    "\n",
    "# some categorical values did not show up in training set.\n",
    "dfa.replace({r'\\.*':0, '\\n':0, 'AsphShn':0, 'RRNe':0, 'PosA':0, 'RRAn':0}, inplace=True, regex=True)\n",
    "\n",
    "dfa['Condition'] = dfa['Condition1'] + dfa['Condition2'] \n",
    "dfa['Exterior'] = dfa['Exterior1st'] + dfa['Exterior2nd']\n",
    "dfa['BsmtFin'] = (dfa['BsmtFinType1']*dfa['BsmtFinSF1'] + dfa['BsmtFinType2']*dfa['BsmtFinSF2'])/dfa['TotalBsmtSF']\n",
    "\n",
    "dfa.drop(['Heating', 'Condition1', 'Condition2', 'Exterior1st', 'Exterior2nd','BsmtFinType1', 'BsmtFinType2','BsmtFinSF1', 'BsmtFinSF2'], axis=1, inplace=True)\n",
    "    "
   ]
  },
  {
   "cell_type": "code",
   "execution_count": 2605,
   "metadata": {
    "collapsed": false
   },
   "outputs": [
    {
     "data": {
      "text/plain": [
       "array([], dtype=object)"
      ]
     },
     "execution_count": 2605,
     "metadata": {},
     "output_type": "execute_result"
    }
   ],
   "source": [
    "dfa.select_dtypes(include=['object']).columns.values\n"
   ]
  },
  {
   "cell_type": "markdown",
   "metadata": {},
   "source": [
    "# Normalize the scale of data"
   ]
  },
  {
   "cell_type": "code",
   "execution_count": 2606,
   "metadata": {
    "collapsed": false
   },
   "outputs": [
    {
     "name": "stdout",
     "output_type": "stream",
     "text": [
      "(1460, 74) (1021, 74) (438, 74)\n"
     ]
    },
    {
     "data": {
      "text/html": [
       "<div>\n",
       "<table border=\"1\" class=\"dataframe\">\n",
       "  <thead>\n",
       "    <tr style=\"text-align: right;\">\n",
       "      <th></th>\n",
       "      <th>MSSubClass</th>\n",
       "      <th>MSZoning</th>\n",
       "      <th>LotFrontage</th>\n",
       "      <th>LotArea</th>\n",
       "      <th>Street</th>\n",
       "      <th>Alley</th>\n",
       "      <th>LotShape</th>\n",
       "      <th>LandContour</th>\n",
       "      <th>Utilities</th>\n",
       "      <th>LotConfig</th>\n",
       "      <th>...</th>\n",
       "      <th>MiscFeature</th>\n",
       "      <th>MiscVal</th>\n",
       "      <th>MoSold</th>\n",
       "      <th>YrSold</th>\n",
       "      <th>SaleType</th>\n",
       "      <th>SaleCondition</th>\n",
       "      <th>SalePrice</th>\n",
       "      <th>Condition</th>\n",
       "      <th>Exterior</th>\n",
       "      <th>BsmtFin</th>\n",
       "    </tr>\n",
       "    <tr>\n",
       "      <th>Id</th>\n",
       "      <th></th>\n",
       "      <th></th>\n",
       "      <th></th>\n",
       "      <th></th>\n",
       "      <th></th>\n",
       "      <th></th>\n",
       "      <th></th>\n",
       "      <th></th>\n",
       "      <th></th>\n",
       "      <th></th>\n",
       "      <th></th>\n",
       "      <th></th>\n",
       "      <th></th>\n",
       "      <th></th>\n",
       "      <th></th>\n",
       "      <th></th>\n",
       "      <th></th>\n",
       "      <th></th>\n",
       "      <th></th>\n",
       "      <th></th>\n",
       "      <th></th>\n",
       "    </tr>\n",
       "  </thead>\n",
       "  <tbody>\n",
       "    <tr>\n",
       "      <th>1</th>\n",
       "      <td>60</td>\n",
       "      <td>0</td>\n",
       "      <td>65.0</td>\n",
       "      <td>8450</td>\n",
       "      <td>0</td>\n",
       "      <td>0</td>\n",
       "      <td>0</td>\n",
       "      <td>1</td>\n",
       "      <td>0</td>\n",
       "      <td>0</td>\n",
       "      <td>...</td>\n",
       "      <td>0.0</td>\n",
       "      <td>0</td>\n",
       "      <td>2</td>\n",
       "      <td>2008</td>\n",
       "      <td>-4100.0</td>\n",
       "      <td>-2053.0</td>\n",
       "      <td>208500</td>\n",
       "      <td>3250.0</td>\n",
       "      <td>74800.0</td>\n",
       "      <td>4.123832</td>\n",
       "    </tr>\n",
       "    <tr>\n",
       "      <th>2</th>\n",
       "      <td>20</td>\n",
       "      <td>0</td>\n",
       "      <td>80.0</td>\n",
       "      <td>9600</td>\n",
       "      <td>0</td>\n",
       "      <td>0</td>\n",
       "      <td>0</td>\n",
       "      <td>1</td>\n",
       "      <td>0</td>\n",
       "      <td>3</td>\n",
       "      <td>...</td>\n",
       "      <td>0.0</td>\n",
       "      <td>0</td>\n",
       "      <td>5</td>\n",
       "      <td>2007</td>\n",
       "      <td>-4100.0</td>\n",
       "      <td>-2053.0</td>\n",
       "      <td>181500</td>\n",
       "      <td>-22500.0</td>\n",
       "      <td>-52040.0</td>\n",
       "      <td>3.099842</td>\n",
       "    </tr>\n",
       "    <tr>\n",
       "      <th>3</th>\n",
       "      <td>60</td>\n",
       "      <td>0</td>\n",
       "      <td>68.0</td>\n",
       "      <td>11250</td>\n",
       "      <td>0</td>\n",
       "      <td>0</td>\n",
       "      <td>1</td>\n",
       "      <td>1</td>\n",
       "      <td>0</td>\n",
       "      <td>0</td>\n",
       "      <td>...</td>\n",
       "      <td>0.0</td>\n",
       "      <td>0</td>\n",
       "      <td>9</td>\n",
       "      <td>2008</td>\n",
       "      <td>-4100.0</td>\n",
       "      <td>-2053.0</td>\n",
       "      <td>223500</td>\n",
       "      <td>3250.0</td>\n",
       "      <td>74800.0</td>\n",
       "      <td>2.641304</td>\n",
       "    </tr>\n",
       "    <tr>\n",
       "      <th>4</th>\n",
       "      <td>70</td>\n",
       "      <td>0</td>\n",
       "      <td>60.0</td>\n",
       "      <td>9550</td>\n",
       "      <td>0</td>\n",
       "      <td>0</td>\n",
       "      <td>1</td>\n",
       "      <td>1</td>\n",
       "      <td>0</td>\n",
       "      <td>2</td>\n",
       "      <td>...</td>\n",
       "      <td>0.0</td>\n",
       "      <td>0</td>\n",
       "      <td>2</td>\n",
       "      <td>2006</td>\n",
       "      <td>-4100.0</td>\n",
       "      <td>-31000.0</td>\n",
       "      <td>140000</td>\n",
       "      <td>3250.0</td>\n",
       "      <td>-52500.0</td>\n",
       "      <td>1.142857</td>\n",
       "    </tr>\n",
       "    <tr>\n",
       "      <th>5</th>\n",
       "      <td>60</td>\n",
       "      <td>0</td>\n",
       "      <td>84.0</td>\n",
       "      <td>14260</td>\n",
       "      <td>0</td>\n",
       "      <td>0</td>\n",
       "      <td>1</td>\n",
       "      <td>1</td>\n",
       "      <td>0</td>\n",
       "      <td>3</td>\n",
       "      <td>...</td>\n",
       "      <td>0.0</td>\n",
       "      <td>0</td>\n",
       "      <td>12</td>\n",
       "      <td>2008</td>\n",
       "      <td>-4100.0</td>\n",
       "      <td>-2053.0</td>\n",
       "      <td>250000</td>\n",
       "      <td>3250.0</td>\n",
       "      <td>74800.0</td>\n",
       "      <td>2.860262</td>\n",
       "    </tr>\n",
       "  </tbody>\n",
       "</table>\n",
       "<p>5 rows × 74 columns</p>\n",
       "</div>"
      ],
      "text/plain": [
       "    MSSubClass  MSZoning  LotFrontage  LotArea  Street  Alley  LotShape  \\\n",
       "Id                                                                        \n",
       "1           60         0         65.0     8450       0      0         0   \n",
       "2           20         0         80.0     9600       0      0         0   \n",
       "3           60         0         68.0    11250       0      0         1   \n",
       "4           70         0         60.0     9550       0      0         1   \n",
       "5           60         0         84.0    14260       0      0         1   \n",
       "\n",
       "    LandContour  Utilities  LotConfig    ...     MiscFeature  MiscVal  MoSold  \\\n",
       "Id                                       ...                                    \n",
       "1             1          0          0    ...             0.0        0       2   \n",
       "2             1          0          3    ...             0.0        0       5   \n",
       "3             1          0          0    ...             0.0        0       9   \n",
       "4             1          0          2    ...             0.0        0       2   \n",
       "5             1          0          3    ...             0.0        0      12   \n",
       "\n",
       "    YrSold  SaleType  SaleCondition  SalePrice  Condition  Exterior   BsmtFin  \n",
       "Id                                                                             \n",
       "1     2008   -4100.0        -2053.0     208500     3250.0   74800.0  4.123832  \n",
       "2     2007   -4100.0        -2053.0     181500   -22500.0  -52040.0  3.099842  \n",
       "3     2008   -4100.0        -2053.0     223500     3250.0   74800.0  2.641304  \n",
       "4     2006   -4100.0       -31000.0     140000     3250.0  -52500.0  1.142857  \n",
       "5     2008   -4100.0        -2053.0     250000     3250.0   74800.0  2.860262  \n",
       "\n",
       "[5 rows x 74 columns]"
      ]
     },
     "execution_count": 2606,
     "metadata": {},
     "output_type": "execute_result"
    }
   ],
   "source": [
    "SalePrice=dfa['SalePrice']  \n",
    "sp_mad = SalePrice.mad()\n",
    "sp_med = SalePrice.median()  # so that the normalization can be reversed\n",
    "\n",
    "dfn=copy.deepcopy(dfa)\n",
    "#dfn = (dfn-dfn.median())/dfn.mad()\n",
    "dfn.fillna(0, inplace=True)\n",
    "df = dfn.loc[train_idx]\n",
    "dfv = dfn.loc[vld_idx]  \n",
    "print(dfa.shape, df.shape, dfv.shape)\n",
    "dfn.head()\n"
   ]
  },
  {
   "cell_type": "markdown",
   "metadata": {},
   "source": [
    "from matplotlib import pyplot as plt\n",
    "import seaborn as sns\n",
    "sns.heatmap(np.log10(1+np.abs(dfn)))\n",
    "plt.show()"
   ]
  },
  {
   "cell_type": "markdown",
   "metadata": {},
   "source": [
    "# build and fit the model"
   ]
  },
  {
   "cell_type": "code",
   "execution_count": 2607,
   "metadata": {
    "collapsed": false
   },
   "outputs": [],
   "source": [
    "target='SalePrice'\n",
    "features=list(set(df.columns).difference(['SalePrice']))\n"
   ]
  },
  {
   "cell_type": "code",
   "execution_count": 2613,
   "metadata": {
    "collapsed": false
   },
   "outputs": [
    {
     "data": {
      "text/plain": [
       "XGBRegressor(base_score=0.5, colsample_bylevel=0.5, colsample_bytree=0.8,\n",
       "       gamma=0.0001, learning_rate=0.001, max_delta_step=0, max_depth=3,\n",
       "       min_child_weight=2, missing=None, n_estimators=10000, nthread=2,\n",
       "       objective='reg:linear', reg_alpha=0, reg_lambda=3,\n",
       "       scale_pos_weight=1, seed=0, silent=True, subsample=1)"
      ]
     },
     "execution_count": 2613,
     "metadata": {},
     "output_type": "execute_result"
    }
   ],
   "source": [
    "mdl = xgb.XGBRegressor(max_depth=3, learning_rate=0.001, n_estimators=10000, silent=True, objective='reg:linear', nthread=2, gamma=0.0001, min_child_weight=2, max_delta_step=0, subsample=1, colsample_bytree=0.8, colsample_bylevel=0.5, reg_alpha=0, reg_lambda=3, scale_pos_weight=1, base_score=0.5, seed=0, missing=None)\n",
    "mdl.fit(df[features], df[target])"
   ]
  },
  {
   "cell_type": "code",
   "execution_count": 2614,
   "metadata": {
    "collapsed": false
   },
   "outputs": [
    {
     "name": "stdout",
     "output_type": "stream",
     "text": [
      "XGBRegressor(base_score=0.5, colsample_bylevel=0.5, colsample_bytree=0.8,\n",
      "       gamma=0.0001, learning_rate=0.001, max_delta_step=0, max_depth=3,\n",
      "       min_child_weight=2, missing=None, n_estimators=10000, nthread=2,\n",
      "       objective='reg:linear', reg_alpha=0, reg_lambda=3,\n",
      "       scale_pos_weight=1, seed=0, silent=True, subsample=1)\n",
      "train  0.983493503028 10278.9987451 0.0868831071143 165000.0\n",
      "valid  0.929098152958 16103.250544 0.130678908818 157200.0\n"
     ]
    }
   ],
   "source": [
    "print(mdl)\n",
    "prd=mdl.predict(df[features])\n",
    "cr = np.corrcoef(prd, df[target].values)[0,1]\n",
    "#prd = (prd*sp_mad)+sp_med\n",
    "rmse = np.sqrt(skl.metrics.mean_squared_error(np.log(SalePrice.loc[train_idx]), np.log(prd)))\n",
    "mae = skl.metrics.mean_absolute_error(SalePrice.loc[train_idx], prd)\n",
    "print('train ', cr, mae, rmse, np.median(SalePrice.loc[train_idx].abs()))\n",
    "#plt.scatter(prd, target.values)\n",
    "#plt.show()\n",
    "prd=mdl.predict(dfv[features])\n",
    "cr = np.corrcoef(prd, dfv[target].values)[0,1]\n",
    "#prd = (prd*sp_mad)+sp_med\n",
    "rmse = np.sqrt(skl.metrics.mean_squared_error(np.log(SalePrice.loc[vld_idx]), np.log(prd)))\n",
    "mae = skl.metrics.mean_absolute_error(SalePrice.loc[vld_idx], prd)\n",
    "print('valid ', cr, mae, rmse, np.median(SalePrice.loc[vld_idx].abs()))\n"
   ]
  },
  {
   "cell_type": "code",
   "execution_count": 2610,
   "metadata": {
    "collapsed": false
   },
   "outputs": [
    {
     "data": {
      "image/png": "[encoded data removed]",
      "text/plain": [
       "<matplotlib.figure.Figure at 0x7f8238cb0470>"
      ]
     },
     "metadata": {},
     "output_type": "display_data"
    }
   ],
   "source": [
    "plt.scatter(prd, SalePrice.loc[vld_idx])\n",
    "plt.show()"
   ]
  },
  {
   "cell_type": "code",
   "execution_count": 2611,
   "metadata": {
    "collapsed": false
   },
   "outputs": [
    {
     "data": {
      "text/html": [
       "<div>\n",
       "<table border=\"1\" class=\"dataframe\">\n",
       "  <thead>\n",
       "    <tr style=\"text-align: right;\">\n",
       "      <th></th>\n",
       "      <th>MSSubClass</th>\n",
       "      <th>MSZoning</th>\n",
       "      <th>LotFrontage</th>\n",
       "      <th>LotArea</th>\n",
       "      <th>Street</th>\n",
       "      <th>Alley</th>\n",
       "      <th>LotShape</th>\n",
       "      <th>LandContour</th>\n",
       "      <th>Utilities</th>\n",
       "      <th>LotConfig</th>\n",
       "      <th>...</th>\n",
       "      <th>MiscFeature</th>\n",
       "      <th>MiscVal</th>\n",
       "      <th>MoSold</th>\n",
       "      <th>YrSold</th>\n",
       "      <th>SaleType</th>\n",
       "      <th>SaleCondition</th>\n",
       "      <th>SalePrice</th>\n",
       "      <th>Condition</th>\n",
       "      <th>Exterior</th>\n",
       "      <th>BsmtFin</th>\n",
       "    </tr>\n",
       "    <tr>\n",
       "      <th>Id</th>\n",
       "      <th></th>\n",
       "      <th></th>\n",
       "      <th></th>\n",
       "      <th></th>\n",
       "      <th></th>\n",
       "      <th></th>\n",
       "      <th></th>\n",
       "      <th></th>\n",
       "      <th></th>\n",
       "      <th></th>\n",
       "      <th></th>\n",
       "      <th></th>\n",
       "      <th></th>\n",
       "      <th></th>\n",
       "      <th></th>\n",
       "      <th></th>\n",
       "      <th></th>\n",
       "      <th></th>\n",
       "      <th></th>\n",
       "      <th></th>\n",
       "      <th></th>\n",
       "    </tr>\n",
       "  </thead>\n",
       "  <tbody>\n",
       "    <tr>\n",
       "      <th>281</th>\n",
       "      <td>60</td>\n",
       "      <td>0</td>\n",
       "      <td>82.0</td>\n",
       "      <td>11287</td>\n",
       "      <td>0</td>\n",
       "      <td>0</td>\n",
       "      <td>0</td>\n",
       "      <td>1</td>\n",
       "      <td>0</td>\n",
       "      <td>0</td>\n",
       "      <td>...</td>\n",
       "      <td>0.0</td>\n",
       "      <td>0</td>\n",
       "      <td>1</td>\n",
       "      <td>2007</td>\n",
       "      <td>-4100.0</td>\n",
       "      <td>-2053.0</td>\n",
       "      <td>228500</td>\n",
       "      <td>3250.0</td>\n",
       "      <td>7650.0</td>\n",
       "      <td>2.608426</td>\n",
       "    </tr>\n",
       "    <tr>\n",
       "      <th>1365</th>\n",
       "      <td>160</td>\n",
       "      <td>1</td>\n",
       "      <td>30.0</td>\n",
       "      <td>3180</td>\n",
       "      <td>0</td>\n",
       "      <td>1</td>\n",
       "      <td>0</td>\n",
       "      <td>1</td>\n",
       "      <td>0</td>\n",
       "      <td>0</td>\n",
       "      <td>...</td>\n",
       "      <td>0.0</td>\n",
       "      <td>0</td>\n",
       "      <td>4</td>\n",
       "      <td>2006</td>\n",
       "      <td>-4100.0</td>\n",
       "      <td>-31000.0</td>\n",
       "      <td>144152</td>\n",
       "      <td>3250.0</td>\n",
       "      <td>-52040.0</td>\n",
       "      <td>0.000000</td>\n",
       "    </tr>\n",
       "    <tr>\n",
       "      <th>133</th>\n",
       "      <td>20</td>\n",
       "      <td>0</td>\n",
       "      <td>75.0</td>\n",
       "      <td>7388</td>\n",
       "      <td>0</td>\n",
       "      <td>0</td>\n",
       "      <td>0</td>\n",
       "      <td>1</td>\n",
       "      <td>0</td>\n",
       "      <td>2</td>\n",
       "      <td>...</td>\n",
       "      <td>0.0</td>\n",
       "      <td>0</td>\n",
       "      <td>7</td>\n",
       "      <td>2007</td>\n",
       "      <td>-4100.0</td>\n",
       "      <td>-2053.0</td>\n",
       "      <td>150750</td>\n",
       "      <td>3250.0</td>\n",
       "      <td>-52040.0</td>\n",
       "      <td>0.761994</td>\n",
       "    </tr>\n",
       "    <tr>\n",
       "      <th>358</th>\n",
       "      <td>120</td>\n",
       "      <td>2</td>\n",
       "      <td>44.0</td>\n",
       "      <td>4224</td>\n",
       "      <td>0</td>\n",
       "      <td>0</td>\n",
       "      <td>0</td>\n",
       "      <td>1</td>\n",
       "      <td>0</td>\n",
       "      <td>0</td>\n",
       "      <td>...</td>\n",
       "      <td>0.0</td>\n",
       "      <td>0</td>\n",
       "      <td>8</td>\n",
       "      <td>2007</td>\n",
       "      <td>-4100.0</td>\n",
       "      <td>-2053.0</td>\n",
       "      <td>134000</td>\n",
       "      <td>3250.0</td>\n",
       "      <td>172000.0</td>\n",
       "      <td>3.061296</td>\n",
       "    </tr>\n",
       "    <tr>\n",
       "      <th>439</th>\n",
       "      <td>30</td>\n",
       "      <td>0</td>\n",
       "      <td>40.0</td>\n",
       "      <td>4280</td>\n",
       "      <td>0</td>\n",
       "      <td>0</td>\n",
       "      <td>0</td>\n",
       "      <td>1</td>\n",
       "      <td>0</td>\n",
       "      <td>0</td>\n",
       "      <td>...</td>\n",
       "      <td>0.0</td>\n",
       "      <td>0</td>\n",
       "      <td>3</td>\n",
       "      <td>2007</td>\n",
       "      <td>-4100.0</td>\n",
       "      <td>-2053.0</td>\n",
       "      <td>90350</td>\n",
       "      <td>3250.0</td>\n",
       "      <td>-56500.0</td>\n",
       "      <td>0.829545</td>\n",
       "    </tr>\n",
       "  </tbody>\n",
       "</table>\n",
       "<p>5 rows × 74 columns</p>\n",
       "</div>"
      ],
      "text/plain": [
       "      MSSubClass  MSZoning  LotFrontage  LotArea  Street  Alley  LotShape  \\\n",
       "Id                                                                          \n",
       "281           60         0         82.0    11287       0      0         0   \n",
       "1365         160         1         30.0     3180       0      1         0   \n",
       "133           20         0         75.0     7388       0      0         0   \n",
       "358          120         2         44.0     4224       0      0         0   \n",
       "439           30         0         40.0     4280       0      0         0   \n",
       "\n",
       "      LandContour  Utilities  LotConfig    ...     MiscFeature  MiscVal  \\\n",
       "Id                                         ...                            \n",
       "281             1          0          0    ...             0.0        0   \n",
       "1365            1          0          0    ...             0.0        0   \n",
       "133             1          0          2    ...             0.0        0   \n",
       "358             1          0          0    ...             0.0        0   \n",
       "439             1          0          0    ...             0.0        0   \n",
       "\n",
       "      MoSold  YrSold  SaleType  SaleCondition  SalePrice  Condition  Exterior  \\\n",
       "Id                                                                              \n",
       "281        1    2007   -4100.0        -2053.0     228500     3250.0    7650.0   \n",
       "1365       4    2006   -4100.0       -31000.0     144152     3250.0  -52040.0   \n",
       "133        7    2007   -4100.0        -2053.0     150750     3250.0  -52040.0   \n",
       "358        8    2007   -4100.0        -2053.0     134000     3250.0  172000.0   \n",
       "439        3    2007   -4100.0        -2053.0      90350     3250.0  -56500.0   \n",
       "\n",
       "       BsmtFin  \n",
       "Id              \n",
       "281   2.608426  \n",
       "1365  0.000000  \n",
       "133   0.761994  \n",
       "358   3.061296  \n",
       "439   0.829545  \n",
       "\n",
       "[5 rows x 74 columns]"
      ]
     },
     "execution_count": 2611,
     "metadata": {},
     "output_type": "execute_result"
    }
   ],
   "source": [
    "df.head()"
   ]
  },
  {
   "cell_type": "code",
   "execution_count": 2612,
   "metadata": {
    "collapsed": false
   },
   "outputs": [
    {
     "data": {
      "image/png": "[encoded data removed]",
      "text/plain": [
       "<matplotlib.figure.Figure at 0x7f8238a3a128>"
      ]
     },
     "metadata": {},
     "output_type": "display_data"
    }
   ],
   "source": [
    "xgb.plot_importance(mdl); plt.show()"
   ]
  },
  {
   "cell_type": "code",
   "execution_count": null,
   "metadata": {
    "collapsed": true
   },
   "outputs": [],
   "source": []
  }
 ],
 "metadata": {
  "kernelspec": {
   "display_name": "Python 3",
   "language": "python",
   "name": "python3"
  },
  "language_info": {
   "codemirror_mode": {
    "name": "ipython",
    "version": 3
   },
   "file_extension": ".py",
   "mimetype": "text/x-python",
   "name": "python",
   "nbconvert_exporter": "python",
   "pygments_lexer": "ipython3",
   "version": "3.5.2"
  }
 },
 "nbformat": 4,
 "nbformat_minor": 2
}
